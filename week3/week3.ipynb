{
 "cells": [
  {
   "cell_type": "markdown",
   "metadata": {},
   "source": [
    "# Week 3"
   ]
  },
  {
   "cell_type": "markdown",
   "metadata": {},
   "source": [
    "## Theran Meadows"
   ]
  },
  {
   "cell_type": "markdown",
   "metadata": {},
   "source": [
    "### Assignment 3.2"
   ]
  },
  {
   "cell_type": "code",
   "execution_count": 1,
   "metadata": {},
   "outputs": [],
   "source": [
    "# Load libraries\n",
    "import pandas as pd\n",
    "import matplotlib as plt\n",
    "import numpy as np"
   ]
  },
  {
   "cell_type": "code",
   "execution_count": 2,
   "metadata": {},
   "outputs": [
    {
     "data": {
      "text/html": [
       "<div>\n",
       "<style scoped>\n",
       "    .dataframe tbody tr th:only-of-type {\n",
       "        vertical-align: middle;\n",
       "    }\n",
       "\n",
       "    .dataframe tbody tr th {\n",
       "        vertical-align: top;\n",
       "    }\n",
       "\n",
       "    .dataframe thead th {\n",
       "        text-align: right;\n",
       "    }\n",
       "</style>\n",
       "<table border=\"1\" class=\"dataframe\">\n",
       "  <thead>\n",
       "    <tr style=\"text-align: right;\">\n",
       "      <th></th>\n",
       "      <th>month</th>\n",
       "      <th>day</th>\n",
       "      <th>attend</th>\n",
       "      <th>day_of_week</th>\n",
       "      <th>opponent</th>\n",
       "      <th>temp</th>\n",
       "      <th>skies</th>\n",
       "      <th>day_night</th>\n",
       "      <th>cap</th>\n",
       "      <th>shirt</th>\n",
       "      <th>fireworks</th>\n",
       "      <th>bobblehead</th>\n",
       "    </tr>\n",
       "  </thead>\n",
       "  <tbody>\n",
       "    <tr>\n",
       "      <th>0</th>\n",
       "      <td>APR</td>\n",
       "      <td>10</td>\n",
       "      <td>56000</td>\n",
       "      <td>Tuesday</td>\n",
       "      <td>Pirates</td>\n",
       "      <td>67</td>\n",
       "      <td>Clear</td>\n",
       "      <td>Day</td>\n",
       "      <td>NO</td>\n",
       "      <td>NO</td>\n",
       "      <td>NO</td>\n",
       "      <td>NO</td>\n",
       "    </tr>\n",
       "    <tr>\n",
       "      <th>1</th>\n",
       "      <td>APR</td>\n",
       "      <td>11</td>\n",
       "      <td>29729</td>\n",
       "      <td>Wednesday</td>\n",
       "      <td>Pirates</td>\n",
       "      <td>58</td>\n",
       "      <td>Cloudy</td>\n",
       "      <td>Night</td>\n",
       "      <td>NO</td>\n",
       "      <td>NO</td>\n",
       "      <td>NO</td>\n",
       "      <td>NO</td>\n",
       "    </tr>\n",
       "    <tr>\n",
       "      <th>2</th>\n",
       "      <td>APR</td>\n",
       "      <td>12</td>\n",
       "      <td>28328</td>\n",
       "      <td>Thursday</td>\n",
       "      <td>Pirates</td>\n",
       "      <td>57</td>\n",
       "      <td>Cloudy</td>\n",
       "      <td>Night</td>\n",
       "      <td>NO</td>\n",
       "      <td>NO</td>\n",
       "      <td>NO</td>\n",
       "      <td>NO</td>\n",
       "    </tr>\n",
       "    <tr>\n",
       "      <th>3</th>\n",
       "      <td>APR</td>\n",
       "      <td>13</td>\n",
       "      <td>31601</td>\n",
       "      <td>Friday</td>\n",
       "      <td>Padres</td>\n",
       "      <td>54</td>\n",
       "      <td>Cloudy</td>\n",
       "      <td>Night</td>\n",
       "      <td>NO</td>\n",
       "      <td>NO</td>\n",
       "      <td>YES</td>\n",
       "      <td>NO</td>\n",
       "    </tr>\n",
       "    <tr>\n",
       "      <th>4</th>\n",
       "      <td>APR</td>\n",
       "      <td>14</td>\n",
       "      <td>46549</td>\n",
       "      <td>Saturday</td>\n",
       "      <td>Padres</td>\n",
       "      <td>57</td>\n",
       "      <td>Cloudy</td>\n",
       "      <td>Night</td>\n",
       "      <td>NO</td>\n",
       "      <td>NO</td>\n",
       "      <td>NO</td>\n",
       "      <td>NO</td>\n",
       "    </tr>\n",
       "  </tbody>\n",
       "</table>\n",
       "</div>"
      ],
      "text/plain": [
       "  month  day  attend day_of_week opponent  temp   skies day_night cap shirt  \\\n",
       "0   APR   10   56000     Tuesday  Pirates    67  Clear        Day  NO    NO   \n",
       "1   APR   11   29729   Wednesday  Pirates    58  Cloudy     Night  NO    NO   \n",
       "2   APR   12   28328    Thursday  Pirates    57  Cloudy     Night  NO    NO   \n",
       "3   APR   13   31601      Friday   Padres    54  Cloudy     Night  NO    NO   \n",
       "4   APR   14   46549    Saturday   Padres    57  Cloudy     Night  NO    NO   \n",
       "\n",
       "  fireworks bobblehead  \n",
       "0        NO         NO  \n",
       "1        NO         NO  \n",
       "2        NO         NO  \n",
       "3       YES         NO  \n",
       "4        NO         NO  "
      ]
     },
     "execution_count": 2,
     "metadata": {},
     "output_type": "execute_result"
    }
   ],
   "source": [
    "# Load the data\n",
    "dodgers_data = pd.read_csv(\"/Users/theranmeadows/dsc630predictiveAnalytics-1/week3/dodgers-2022.csv\")\n",
    "\n",
    "# Preview the data\n",
    "dodgers_data.head()"
   ]
  },
  {
   "cell_type": "code",
   "execution_count": 28,
   "metadata": {},
   "outputs": [
    {
     "data": {
      "text/html": [
       "<div>\n",
       "<style scoped>\n",
       "    .dataframe tbody tr th:only-of-type {\n",
       "        vertical-align: middle;\n",
       "    }\n",
       "\n",
       "    .dataframe tbody tr th {\n",
       "        vertical-align: top;\n",
       "    }\n",
       "\n",
       "    .dataframe thead th {\n",
       "        text-align: right;\n",
       "    }\n",
       "</style>\n",
       "<table border=\"1\" class=\"dataframe\">\n",
       "  <thead>\n",
       "    <tr style=\"text-align: right;\">\n",
       "      <th></th>\n",
       "      <th>month</th>\n",
       "      <th>day</th>\n",
       "      <th>attend</th>\n",
       "      <th>day_of_week</th>\n",
       "      <th>opponent</th>\n",
       "      <th>temp</th>\n",
       "      <th>skies</th>\n",
       "      <th>day_night</th>\n",
       "      <th>cap</th>\n",
       "      <th>shirt</th>\n",
       "      <th>fireworks</th>\n",
       "      <th>bobblehead</th>\n",
       "    </tr>\n",
       "  </thead>\n",
       "  <tbody>\n",
       "    <tr>\n",
       "      <th>18</th>\n",
       "      <td>MAY</td>\n",
       "      <td>14</td>\n",
       "      <td>24312</td>\n",
       "      <td>Monday</td>\n",
       "      <td>Snakes</td>\n",
       "      <td>67</td>\n",
       "      <td>Clear</td>\n",
       "      <td>Night</td>\n",
       "      <td>NO</td>\n",
       "      <td>NO</td>\n",
       "      <td>NO</td>\n",
       "      <td>NO</td>\n",
       "    </tr>\n",
       "    <tr>\n",
       "      <th>28</th>\n",
       "      <td>MAY</td>\n",
       "      <td>30</td>\n",
       "      <td>25509</td>\n",
       "      <td>Wednesday</td>\n",
       "      <td>Brewers</td>\n",
       "      <td>69</td>\n",
       "      <td>Clear</td>\n",
       "      <td>Night</td>\n",
       "      <td>NO</td>\n",
       "      <td>NO</td>\n",
       "      <td>NO</td>\n",
       "      <td>NO</td>\n",
       "    </tr>\n",
       "    <tr>\n",
       "      <th>8</th>\n",
       "      <td>APR</td>\n",
       "      <td>25</td>\n",
       "      <td>26345</td>\n",
       "      <td>Wednesday</td>\n",
       "      <td>Braves</td>\n",
       "      <td>64</td>\n",
       "      <td>Cloudy</td>\n",
       "      <td>Night</td>\n",
       "      <td>NO</td>\n",
       "      <td>NO</td>\n",
       "      <td>NO</td>\n",
       "      <td>NO</td>\n",
       "    </tr>\n",
       "    <tr>\n",
       "      <th>6</th>\n",
       "      <td>APR</td>\n",
       "      <td>23</td>\n",
       "      <td>26376</td>\n",
       "      <td>Monday</td>\n",
       "      <td>Braves</td>\n",
       "      <td>60</td>\n",
       "      <td>Cloudy</td>\n",
       "      <td>Night</td>\n",
       "      <td>NO</td>\n",
       "      <td>NO</td>\n",
       "      <td>NO</td>\n",
       "      <td>NO</td>\n",
       "    </tr>\n",
       "    <tr>\n",
       "      <th>29</th>\n",
       "      <td>MAY</td>\n",
       "      <td>31</td>\n",
       "      <td>26773</td>\n",
       "      <td>Thursday</td>\n",
       "      <td>Brewers</td>\n",
       "      <td>70</td>\n",
       "      <td>Clear</td>\n",
       "      <td>Night</td>\n",
       "      <td>NO</td>\n",
       "      <td>NO</td>\n",
       "      <td>NO</td>\n",
       "      <td>NO</td>\n",
       "    </tr>\n",
       "  </tbody>\n",
       "</table>\n",
       "</div>"
      ],
      "text/plain": [
       "   month  day  attend day_of_week opponent  temp   skies day_night cap shirt  \\\n",
       "18   MAY   14   24312      Monday   Snakes    67  Clear      Night  NO    NO   \n",
       "28   MAY   30   25509   Wednesday  Brewers    69  Clear      Night  NO    NO   \n",
       "8    APR   25   26345   Wednesday   Braves    64  Cloudy     Night  NO    NO   \n",
       "6    APR   23   26376      Monday   Braves    60  Cloudy     Night  NO    NO   \n",
       "29   MAY   31   26773    Thursday  Brewers    70  Clear      Night  NO    NO   \n",
       "\n",
       "   fireworks bobblehead  \n",
       "18        NO         NO  \n",
       "28        NO         NO  \n",
       "8         NO         NO  \n",
       "6         NO         NO  \n",
       "29        NO         NO  "
      ]
     },
     "execution_count": 28,
     "metadata": {},
     "output_type": "execute_result"
    }
   ],
   "source": [
    "dodgers_data.sort_values(by='attend', inplace = True)"
   ]
  },
  {
   "cell_type": "code",
   "execution_count": 40,
   "metadata": {},
   "outputs": [
    {
     "data": {
      "text/plain": [
       "419588"
      ]
     },
     "execution_count": 40,
     "metadata": {},
     "output_type": "execute_result"
    }
   ],
   "source": [
    "monday = dodgers_data.loc[dodgers_data['day_of_week']== \"Monday\"]\n",
    "monday_sum = monday['attend'].sum()\n",
    "monday_sum"
   ]
  },
  {
   "cell_type": "code",
   "execution_count": 42,
   "metadata": {},
   "outputs": [
    {
     "data": {
      "text/plain": [
       "620636"
      ]
     },
     "execution_count": 42,
     "metadata": {},
     "output_type": "execute_result"
    }
   ],
   "source": [
    "tuesday = dodgers_data.loc[dodgers_data['day_of_week']== \"Tuesday\"]\n",
    "tuesday_sum = tuesday['attend'].sum()\n",
    "tuesday_sum"
   ]
  },
  {
   "cell_type": "code",
   "execution_count": 43,
   "metadata": {},
   "outputs": [
    {
     "data": {
      "text/plain": [
       "451022"
      ]
     },
     "execution_count": 43,
     "metadata": {},
     "output_type": "execute_result"
    }
   ],
   "source": [
    "wednesday = dodgers_data.loc[dodgers_data['day_of_week']== \"Wednesday\"]\n",
    "wednesday_sum = wednesday['attend'].sum()\n",
    "wednesday_sum"
   ]
  },
  {
   "cell_type": "code",
   "execution_count": 44,
   "metadata": {},
   "outputs": [
    {
     "data": {
      "text/plain": [
       "202037"
      ]
     },
     "execution_count": 44,
     "metadata": {},
     "output_type": "execute_result"
    }
   ],
   "source": [
    "thursday = dodgers_data.loc[dodgers_data['day_of_week']== \"Thursday\"]\n",
    "thursday_sum = thursday['attend'].sum()\n",
    "thursday_sum"
   ]
  },
  {
   "cell_type": "code",
   "execution_count": 46,
   "metadata": {},
   "outputs": [
    {
     "data": {
      "text/plain": [
       "521520"
      ]
     },
     "execution_count": 46,
     "metadata": {},
     "output_type": "execute_result"
    }
   ],
   "source": [
    "friday = dodgers_data.loc[dodgers_data['day_of_week']== \"Friday\"]\n",
    "friday_sum = friday['attend'].sum()\n",
    "friday_sum"
   ]
  },
  {
   "cell_type": "code",
   "execution_count": 47,
   "metadata": {},
   "outputs": [
    {
     "data": {
      "text/plain": [
       "559948"
      ]
     },
     "execution_count": 47,
     "metadata": {},
     "output_type": "execute_result"
    }
   ],
   "source": [
    "saturday = dodgers_data.loc[dodgers_data['day_of_week']== \"Saturday\"]\n",
    "saturday_sum = saturday['attend'].sum()\n",
    "saturday_sum"
   ]
  },
  {
   "cell_type": "code",
   "execution_count": 52,
   "metadata": {},
   "outputs": [
    {
     "data": {
      "text/html": [
       "<div>\n",
       "<style scoped>\n",
       "    .dataframe tbody tr th:only-of-type {\n",
       "        vertical-align: middle;\n",
       "    }\n",
       "\n",
       "    .dataframe tbody tr th {\n",
       "        vertical-align: top;\n",
       "    }\n",
       "\n",
       "    .dataframe thead th {\n",
       "        text-align: right;\n",
       "    }\n",
       "</style>\n",
       "<table border=\"1\" class=\"dataframe\">\n",
       "  <thead>\n",
       "    <tr style=\"text-align: right;\">\n",
       "      <th></th>\n",
       "      <th>Day</th>\n",
       "      <th>total_attend</th>\n",
       "    </tr>\n",
       "  </thead>\n",
       "  <tbody>\n",
       "    <tr>\n",
       "      <th>0</th>\n",
       "      <td>Monday</td>\n",
       "      <td>419588</td>\n",
       "    </tr>\n",
       "    <tr>\n",
       "      <th>1</th>\n",
       "      <td>Tuesday</td>\n",
       "      <td>620636</td>\n",
       "    </tr>\n",
       "    <tr>\n",
       "      <th>2</th>\n",
       "      <td>Wednesday</td>\n",
       "      <td>451022</td>\n",
       "    </tr>\n",
       "    <tr>\n",
       "      <th>3</th>\n",
       "      <td>Thursday</td>\n",
       "      <td>202037</td>\n",
       "    </tr>\n",
       "    <tr>\n",
       "      <th>4</th>\n",
       "      <td>Friday</td>\n",
       "      <td>521520</td>\n",
       "    </tr>\n",
       "    <tr>\n",
       "      <th>5</th>\n",
       "      <td>Saturday</td>\n",
       "      <td>559948</td>\n",
       "    </tr>\n",
       "  </tbody>\n",
       "</table>\n",
       "</div>"
      ],
      "text/plain": [
       "         Day  total_attend\n",
       "0     Monday        419588\n",
       "1    Tuesday        620636\n",
       "2  Wednesday        451022\n",
       "3   Thursday        202037\n",
       "4     Friday        521520\n",
       "5   Saturday        559948"
      ]
     },
     "execution_count": 52,
     "metadata": {},
     "output_type": "execute_result"
    }
   ],
   "source": [
    "day_data = [['Monday', 419588] , ['Tuesday', 620636],['Wednesday', 451022], ['Thursday', 202037], ['Friday', 521520], ['Saturday', 559948]]\n",
    "\n",
    "attendance_df = pd.DataFrame(day_data, columns = ['Day', 'total_attend'])\n",
    "\n",
    "attendance_df"
   ]
  },
  {
   "cell_type": "code",
   "execution_count": 53,
   "metadata": {},
   "outputs": [
    {
     "data": {
      "text/plain": [
       "<Axes: xlabel='Day'>"
      ]
     },
     "execution_count": 53,
     "metadata": {},
     "output_type": "execute_result"
    },
    {
     "data": {
      "image/png": "[encoded data removed]",
      "text/plain": [
       "<Figure size 640x480 with 1 Axes>"
      ]
     },
     "metadata": {},
     "output_type": "display_data"
    }
   ],
   "source": [
    "attendance_df.plot.bar( x = \"Day\", y = 'total_attend')"
   ]
  },
  {
   "cell_type": "code",
   "execution_count": 73,
   "metadata": {},
   "outputs": [
    {
     "data": {
      "text/plain": [
       "skies \n",
       "Clear     62\n",
       "Cloudy    19\n",
       "Name: count, dtype: int64"
      ]
     },
     "execution_count": 73,
     "metadata": {},
     "output_type": "execute_result"
    }
   ],
   "source": [
    "dodgers_data[['skies']].value_counts()"
   ]
  },
  {
   "cell_type": "code",
   "execution_count": 70,
   "metadata": {},
   "outputs": [
    {
     "data": {
      "text/plain": [
       "2587211"
      ]
     },
     "execution_count": 70,
     "metadata": {},
     "output_type": "execute_result"
    }
   ],
   "source": [
    "weather = dodgers_data.loc[dodgers_data['skies']== 'Clear ']\n",
    "weather_sum = weather['attend'].sum()\n",
    "weather_sum"
   ]
  },
  {
   "cell_type": "code",
   "execution_count": 72,
   "metadata": {},
   "outputs": [
    {
     "data": {
      "text/plain": [
       "737035"
      ]
     },
     "execution_count": 72,
     "metadata": {},
     "output_type": "execute_result"
    }
   ],
   "source": [
    "weather = dodgers_data.loc[dodgers_data['skies']== 'Cloudy']\n",
    "weather_sum = weather['attend'].sum()\n",
    "weather_sum"
   ]
  },
  {
   "cell_type": "code",
   "execution_count": 82,
   "metadata": {},
   "outputs": [
    {
     "data": {
      "text/html": [
       "<div>\n",
       "<style scoped>\n",
       "    .dataframe tbody tr th:only-of-type {\n",
       "        vertical-align: middle;\n",
       "    }\n",
       "\n",
       "    .dataframe tbody tr th {\n",
       "        vertical-align: top;\n",
       "    }\n",
       "\n",
       "    .dataframe thead th {\n",
       "        text-align: right;\n",
       "    }\n",
       "</style>\n",
       "<table border=\"1\" class=\"dataframe\">\n",
       "  <thead>\n",
       "    <tr style=\"text-align: right;\">\n",
       "      <th></th>\n",
       "      <th>weather</th>\n",
       "      <th>total_attend</th>\n",
       "    </tr>\n",
       "  </thead>\n",
       "  <tbody>\n",
       "    <tr>\n",
       "      <th>0</th>\n",
       "      <td>Clear</td>\n",
       "      <td>2587211</td>\n",
       "    </tr>\n",
       "    <tr>\n",
       "      <th>1</th>\n",
       "      <td>Cloudy</td>\n",
       "      <td>737035</td>\n",
       "    </tr>\n",
       "  </tbody>\n",
       "</table>\n",
       "</div>"
      ],
      "text/plain": [
       "  weather  total_attend\n",
       "0   Clear       2587211\n",
       "1  Cloudy        737035"
      ]
     },
     "execution_count": 82,
     "metadata": {},
     "output_type": "execute_result"
    }
   ],
   "source": [
    "weather_data = [['Clear', 2587211] , ['Cloudy', 737035]]\n",
    "\n",
    "weather_df = pd.DataFrame(weather_data, columns = ['weather', 'total_attend'])\n",
    "\n",
    "weather_df"
   ]
  },
  {
   "cell_type": "code",
   "execution_count": 83,
   "metadata": {},
   "outputs": [
    {
     "data": {
      "text/plain": [
       "<Axes: xlabel='weather'>"
      ]
     },
     "execution_count": 83,
     "metadata": {},
     "output_type": "execute_result"
    },
    {
     "data": {
      "image/png": "[encoded data removed]",
      "text/plain": [
       "<Figure size 640x480 with 1 Axes>"
      ]
     },
     "metadata": {},
     "output_type": "display_data"
    }
   ],
   "source": [
    "weather_df.plot.bar( x = \"weather\", y = 'total_attend')"
   ]
  },
  {
   "cell_type": "code",
   "execution_count": 74,
   "metadata": {},
   "outputs": [
    {
     "data": {
      "text/plain": [
       "month\n",
       "MAY      18\n",
       "AUG      15\n",
       "APR      12\n",
       "JUL      12\n",
       "SEP      12\n",
       "JUN       9\n",
       "OCT       3\n",
       "Name: count, dtype: int64"
      ]
     },
     "execution_count": 74,
     "metadata": {},
     "output_type": "execute_result"
    }
   ],
   "source": [
    "dodgers_data[['month']].value_counts()"
   ]
  },
  {
   "cell_type": "code",
   "execution_count": 79,
   "metadata": {},
   "outputs": [
    {
     "data": {
      "text/plain": [
       "672223"
      ]
     },
     "execution_count": 79,
     "metadata": {},
     "output_type": "execute_result"
    }
   ],
   "source": [
    "month = dodgers_data.loc[dodgers_data['month']== 'MAY']\n",
    "month_sum = month['attend'].sum()\n",
    "month_sum"
   ]
  },
  {
   "cell_type": "code",
   "execution_count": 80,
   "metadata": {},
   "outputs": [
    {
     "data": {
      "text/plain": [
       "641273"
      ]
     },
     "execution_count": 80,
     "metadata": {},
     "output_type": "execute_result"
    }
   ],
   "source": [
    "month = dodgers_data.loc[dodgers_data['month']== 'AUG']\n",
    "month_sum = month['attend'].sum()\n",
    "month_sum"
   ]
  },
  {
   "cell_type": "code",
   "execution_count": 81,
   "metadata": {},
   "outputs": [
    {
     "data": {
      "text/plain": [
       "475103"
      ]
     },
     "execution_count": 81,
     "metadata": {},
     "output_type": "execute_result"
    }
   ],
   "source": [
    "month = dodgers_data.loc[dodgers_data['month']== 'APR']\n",
    "month_sum = month['attend'].sum()\n",
    "month_sum"
   ]
  },
  {
   "cell_type": "code",
   "execution_count": 84,
   "metadata": {},
   "outputs": [
    {
     "data": {
      "text/html": [
       "<div>\n",
       "<style scoped>\n",
       "    .dataframe tbody tr th:only-of-type {\n",
       "        vertical-align: middle;\n",
       "    }\n",
       "\n",
       "    .dataframe tbody tr th {\n",
       "        vertical-align: top;\n",
       "    }\n",
       "\n",
       "    .dataframe thead th {\n",
       "        text-align: right;\n",
       "    }\n",
       "</style>\n",
       "<table border=\"1\" class=\"dataframe\">\n",
       "  <thead>\n",
       "    <tr style=\"text-align: right;\">\n",
       "      <th></th>\n",
       "      <th>month</th>\n",
       "      <th>total_attend</th>\n",
       "    </tr>\n",
       "  </thead>\n",
       "  <tbody>\n",
       "    <tr>\n",
       "      <th>0</th>\n",
       "      <td>May</td>\n",
       "      <td>672223</td>\n",
       "    </tr>\n",
       "    <tr>\n",
       "      <th>1</th>\n",
       "      <td>Aug</td>\n",
       "      <td>641273</td>\n",
       "    </tr>\n",
       "    <tr>\n",
       "      <th>2</th>\n",
       "      <td>Apr</td>\n",
       "      <td>475103</td>\n",
       "    </tr>\n",
       "  </tbody>\n",
       "</table>\n",
       "</div>"
      ],
      "text/plain": [
       "  month  total_attend\n",
       "0   May        672223\n",
       "1   Aug        641273\n",
       "2   Apr        475103"
      ]
     },
     "execution_count": 84,
     "metadata": {},
     "output_type": "execute_result"
    }
   ],
   "source": [
    "month_data = [['May', 672223] , ['Aug', 641273], ['Apr', 475103]]\n",
    "\n",
    "month_df = pd.DataFrame(month_data, columns = ['month', 'total_attend'])\n",
    "\n",
    "month_df"
   ]
  },
  {
   "cell_type": "code",
   "execution_count": 86,
   "metadata": {},
   "outputs": [
    {
     "data": {
      "text/plain": [
       "<Axes: xlabel='month'>"
      ]
     },
     "execution_count": 86,
     "metadata": {},
     "output_type": "execute_result"
    },
    {
     "data": {
      "image/png": "[encoded data removed]",
      "text/plain": [
       "<Figure size 640x480 with 1 Axes>"
      ]
     },
     "metadata": {},
     "output_type": "display_data"
    }
   ],
   "source": [
    "month_df.plot.bar( x = \"month\", y = 'total_attend')"
   ]
  },
  {
   "cell_type": "markdown",
   "metadata": {},
   "source": [
    "In this analysis, I wanted to see what factors outside of promotions might also bring in attendance. From this data, it looks as though the month of May brought in the most attendance with August being the 2nd most. I though it was intersting for this gap as August is 3 months away from May. The weather also seems to play a factor as most people want to come when the weather is 'Clear'. That makes sens since the stadium is outside and in the summer time, ou may be to hot to enjoy the game. \n",
    "My advice to help bring in more patreons would be to hold more games in the monnths of April, May, and August. The weather will already be on their side to bring people in. If promotion budget allows, I would do bigger promotions together as well.  \n",
    "The day of the week also matter as even though tuesday had the highest attendance, friday and saturday would be much easier to have higher attendances because they are consecutive days."
   ]
  }
 ],
 "metadata": {
  "kernelspec": {
   "display_name": "Python 3.11.2 64-bit",
   "language": "python",
   "name": "python3"
  },
  "language_info": {
   "codemirror_mode": {
    "name": "ipython",
    "version": 3
   },
   "file_extension": ".py",
   "mimetype": "text/x-python",
   "name": "python",
   "nbconvert_exporter": "python",
   "pygments_lexer": "ipython3",
   "version": "3.11.2"
  },
  "orig_nbformat": 4,
  "vscode": {
   "interpreter": {
    "hash": "aee8b7b246df8f9039afb4144a1f6fd8d2ca17a180786b69acc140d282b71a49"
   }
  }
 },
 "nbformat": 4,
 "nbformat_minor": 2
}
